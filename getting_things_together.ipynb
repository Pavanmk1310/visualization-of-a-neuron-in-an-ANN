{
  "nbformat": 4,
  "nbformat_minor": 0,
  "metadata": {
    "colab": {
      "provenance": [],
      "authorship_tag": "ABX9TyNi8aYGs6KeGgtUTCzLbwJa",
      "include_colab_link": true
    },
    "kernelspec": {
      "name": "python3",
      "display_name": "Python 3"
    },
    "language_info": {
      "name": "python"
    }
  },
  "cells": [
    {
      "cell_type": "markdown",
      "metadata": {
        "id": "view-in-github",
        "colab_type": "text"
      },
      "source": [
        "<a href=\"https://colab.research.google.com/github/Pavanmk1310/visualization-of-a-neuron-in-an-ANN/blob/main/getting_things_together.ipynb\" target=\"_parent\"><img src=\"https://colab.research.google.com/assets/colab-badge.svg\" alt=\"Open In Colab\"/></a>"
      ]
    },
    {
      "cell_type": "code",
      "execution_count": null,
      "metadata": {
        "colab": {
          "base_uri": "https://localhost:8080/"
        },
        "id": "IW-_H9a0MEmL",
        "outputId": "081e882a-c12a-495d-eb18-64791ecba85d"
      },
      "outputs": [
        {
          "output_type": "stream",
          "name": "stdout",
          "text": [
            "Collecting PyPDF2\n",
            "  Downloading pypdf2-3.0.1-py3-none-any.whl.metadata (6.8 kB)\n",
            "Downloading pypdf2-3.0.1-py3-none-any.whl (232 kB)\n",
            "\u001b[2K   \u001b[90m━━━━━━━━━━━━━━━━━━━━━━━━━━━━━━━━━━━━━━━━\u001b[0m \u001b[32m232.6/232.6 kB\u001b[0m \u001b[31m1.3 MB/s\u001b[0m eta \u001b[36m0:00:00\u001b[0m\n",
            "\u001b[?25hInstalling collected packages: PyPDF2\n",
            "Successfully installed PyPDF2-3.0.1\n"
          ]
        }
      ],
      "source": [
        "pip install PyPDF2"
      ]
    },
    {
      "cell_type": "code",
      "source": [
        "from PyPDF2 import PdfReader\n",
        "\n",
        "def extract_and_concatenate_text(pdf_path):\n",
        "    # Create a PDF reader object\n",
        "    reader = PdfReader(pdf_path)\n",
        "\n",
        "    # Extract text from the first page\n",
        "    page = reader.pages[0]\n",
        "    text = page.extract_text()\n",
        "\n",
        "    # Split the text into words and concatenate with a space\n",
        "    words = text.split()\n",
        "    concatenated_text = ' '.join(words)\n",
        "\n",
        "    return concatenated_text\n",
        "\n",
        "# Example usage:\n",
        "pdf_path = \"file.pdf\"\n",
        "concatenated_text = extract_and_concatenate_text(pdf_path)\n",
        "print(concatenated_text)\n"
      ],
      "metadata": {
        "colab": {
          "base_uri": "https://localhost:8080/"
        },
        "id": "P7wleShqMjbI",
        "outputId": "b9a65783-058d-4a75-814e-a8a9b160e9f5"
      },
      "execution_count": null,
      "outputs": [
        {
          "output_type": "stream",
          "name": "stdout",
          "text": [
            "Lorem ipsum Lorem ipsum dolor sit amet, consectetur adipiscing elit. Nunc ac faucibus odio. Vestibulum neque massa, scelerisque sit amet ligula eu, congue molestie mi. Praesent ut varius sem. Nullam at porttitor arcu, nec lacinia nisi. Ut ac dolor vitae odio interdum condimentum. Vivamus dapibus sodales ex, vitae malesuada ipsum cursus convallis. Maecenas sed egestas nulla, ac condimentum orci. Mauris diam felis, vulputate ac suscipit et, iaculis non est. Curabitur semper arcu ac ligula semper, nec luctus nisl blandit. Integer lacinia ante ac libero lobortis imperdiet. Nullam mollis convallis ipsum, ac accumsan nunc vehicula vitae. Nulla eget justo in felis tristique fringilla. Morbi sit amet tortor quis risus auctor condimentum. Morbi in ullamcorper elit. Nulla iaculis tellus sit amet mauris tempus fringilla. Maecenas mauris lectus, lobortis et purus mattis, blandit dictum tellus. Maecenas non lorem quis tellus placerat varius. Nulla facilisi. Aenean congue fringilla justo ut aliquam. Mauris id ex erat. Nunc vulputate neque vitae justo facilisis, non condimentum ante sagittis. Morbi viverra semper lorem nec molestie. Maecenas tincidunt est efficitur ligula euismod, sit amet ornare est vulputate. Row 1Row 2Row 3Row 4024681012 Column 1 Column 2 Column 3\n"
          ]
        }
      ]
    },
    {
      "cell_type": "code",
      "source": [
        "reader = PdfReader(\"file.pdf\")\n",
        "\n",
        "page = reader.pages[0]\n",
        "count = 0\n",
        "\n",
        "for image_file_object in page.images:\n",
        "    with open(str(count) + image_file_object.name, \"wb\") as fp:\n",
        "        fp.write(image_file_object.data)\n",
        "        count += 1"
      ],
      "metadata": {
        "id": "N8yRpCIuVYpg"
      },
      "execution_count": null,
      "outputs": []
    },
    {
      "cell_type": "markdown",
      "source": [
        "redaction begins"
      ],
      "metadata": {
        "id": "33LSkM2NNw7Y"
      }
    },
    {
      "cell_type": "markdown",
      "source": [
        "pyteseract begins\n"
      ],
      "metadata": {
        "id": "nHCmYbFJWMM_"
      }
    },
    {
      "cell_type": "code",
      "source": [
        "import re\n",
        "\n",
        "def enumerate_words(text):\n",
        "    words = text.split()\n",
        "    enumerated_dict = {i + 1: word for i, word in enumerate(words)}\n",
        "    return enumerated_dict\n",
        "\n",
        "def find_phone_numbers(enumerated_dict):\n",
        "    phone_number_index = []\n",
        "    phone_number_pattern = re.compile(r'\\b\\d{2,3}-\\d{3,4}-\\d{4}\\b')  # Adjust the regex pattern as needed\n",
        "\n",
        "    for key, value in enumerated_dict.items():\n",
        "        if phone_number_pattern.search(value):\n",
        "            phone_number_index.append(key)\n",
        "\n",
        "    return phone_number_index\n",
        "\n",
        "def find_emails(enumerated_dict):\n",
        "    email_index = []\n",
        "    email_pattern = re.compile(r'\\b[A-Za-z0-9._%+-]+@[A-Za-z0-9.-]+\\.[A-Z|a-z]{2,}\\b')\n",
        "\n",
        "    for key, value in enumerated_dict.items():\n",
        "        if email_pattern.search(value):\n",
        "            email_index.append(key)\n",
        "\n",
        "    return email_index\n",
        "\n",
        "def redacted(text, indices):\n",
        "    words = text.split()\n",
        "    for index in indices:\n",
        "        words[index - 1] = \"[REDACTED]\"\n",
        "    return ' '.join(words)\n",
        "\n",
        "input_text = concatenated_text\n",
        "enumerated = enumerate_words(input_text)\n",
        "phone_numbers = find_phone_numbers(enumerated)\n",
        "emails = find_emails(enumerated)\n",
        "redacted_text = redacted(input_text, phone_numbers + emails)\n",
        "print(redacted_text)"
      ],
      "metadata": {
        "colab": {
          "base_uri": "https://localhost:8080/"
        },
        "id": "QKhEayK3Ny6e",
        "outputId": "207209b3-2c03-49c2-e030-efdfb3408620"
      },
      "execution_count": null,
      "outputs": [
        {
          "output_type": "stream",
          "name": "stdout",
          "text": [
            "Lorem ipsum Lorem ipsum dolor sit amet, consectetur adipiscing elit. Nunc ac faucibus odio. Vestibulum neque massa, scelerisque sit amet ligula eu, congue molestie mi. Praesent ut varius sem. Nullam at porttitor arcu, nec lacinia nisi. Ut ac dolor vitae odio interdum condimentum. Vivamus dapibus sodales ex, vitae malesuada ipsum cursus convallis. Maecenas sed egestas nulla, ac condimentum orci. Mauris diam felis, vulputate ac suscipit et, iaculis non est. Curabitur semper arcu ac ligula semper, nec luctus nisl blandit. Integer lacinia ante ac libero lobortis imperdiet. Nullam mollis convallis ipsum, ac accumsan nunc vehicula vitae. Nulla eget justo in felis tristique fringilla. Morbi sit amet tortor quis risus auctor condimentum. Morbi in ullamcorper elit. Nulla iaculis tellus sit amet mauris tempus fringilla. Maecenas mauris lectus, lobortis et purus mattis, blandit dictum tellus. Maecenas non lorem quis tellus placerat varius. Nulla facilisi. Aenean congue fringilla justo ut aliquam. Mauris id ex erat. Nunc vulputate neque vitae justo facilisis, non condimentum ante sagittis. Morbi viverra semper lorem nec molestie. Maecenas tincidunt est efficitur ligula euismod, sit amet ornare est vulputate. Row 1Row 2Row 3Row 4024681012 Column 1 Column 2 Column 3\n"
          ]
        }
      ]
    },
    {
      "cell_type": "code",
      "source": [],
      "metadata": {
        "id": "7NNpup0uOJSn"
      },
      "execution_count": null,
      "outputs": []
    }
  ]
}